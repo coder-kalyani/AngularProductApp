{
  "nbformat": 4,
  "nbformat_minor": 0,
  "metadata": {
    "colab": {
      "provenance": [],
      "authorship_tag": "ABX9TyNJCwxVcBVTiT9VGQSpk7go",
      "include_colab_link": true
    },
    "kernelspec": {
      "name": "python3",
      "display_name": "Python 3"
    },
    "language_info": {
      "name": "python"
    }
  },
  "cells": [
    {
      "cell_type": "markdown",
      "metadata": {
        "id": "view-in-github",
        "colab_type": "text"
      },
      "source": [
        "<a href=\"https://colab.research.google.com/github/coder-kalyani/AngularProductApp/blob/main/NLP_Learningipynb.ipynb\" target=\"_parent\"><img src=\"https://colab.research.google.com/assets/colab-badge.svg\" alt=\"Open In Colab\"/></a>"
      ]
    },
    {
      "cell_type": "code",
      "source": [
        "!pip install pdfmerge"
      ],
      "metadata": {
        "colab": {
          "base_uri": "https://localhost:8080/"
        },
        "id": "HErDaideYuOM",
        "outputId": "45c5db70-4fb2-401e-8bae-556b699c4811"
      },
      "execution_count": 27,
      "outputs": [
        {
          "output_type": "stream",
          "name": "stdout",
          "text": [
            "Requirement already satisfied: pdfmerge in /usr/local/lib/python3.10/dist-packages (1.0.0)\n",
            "Requirement already satisfied: attrbox==0.1.5 in /usr/local/lib/python3.10/dist-packages (from pdfmerge) (0.1.5)\n",
            "Requirement already satisfied: pypdf==3.9.0 in /usr/local/lib/python3.10/dist-packages (from pdfmerge) (3.9.0)\n",
            "Requirement already satisfied: docopt==0.6.2 in /usr/local/lib/python3.10/dist-packages (from attrbox==0.1.5->pdfmerge) (0.6.2)\n",
            "Requirement already satisfied: tomli>=1.1.0 in /usr/local/lib/python3.10/dist-packages (from attrbox==0.1.5->pdfmerge) (2.0.1)\n"
          ]
        }
      ]
    },
    {
      "cell_type": "code",
      "source": [
        "import PyPDF2\n",
        "data = open('/Kalyani_Pawar_Resume.pdf', 'rb')\n",
        "reader = PyPDF2.PdfFileReader(data)\n",
        "print(reader.numPages)"
      ],
      "metadata": {
        "colab": {
          "base_uri": "https://localhost:8080/"
        },
        "id": "9XcbiqQIY7u5",
        "outputId": "cc777685-bf84-4bef-bc19-69b389a2e507"
      },
      "execution_count": 29,
      "outputs": [
        {
          "output_type": "stream",
          "name": "stdout",
          "text": [
            "5\n"
          ]
        }
      ]
    }
  ]
}